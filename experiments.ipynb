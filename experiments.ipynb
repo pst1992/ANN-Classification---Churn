{
 "cells": [
  {
   "cell_type": "code",
   "execution_count": null,
   "id": "93eae706",
   "metadata": {
    "vscode": {
     "languageId": "plaintext"
    }
   },
   "outputs": [],
   "source": [
    "print('hi)"
   ]
  },
  {
   "cell_type": "code",
   "execution_count": null,
   "id": "c9a49e1d",
   "metadata": {
    "vscode": {
     "languageId": "plaintext"
    }
   },
   "outputs": [],
   "source": []
  }
 ],
 "metadata": {
  "language_info": {
   "name": "python"
  }
 },
 "nbformat": 4,
 "nbformat_minor": 5
}
